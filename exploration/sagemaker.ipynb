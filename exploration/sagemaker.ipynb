{
 "cells": [
  {
   "cell_type": "code",
   "execution_count": 4,
   "metadata": {},
   "outputs": [],
   "source": [
    "import sys\n",
    "import os\n",
    "\n",
    "prefix = os.path.join(os.getcwd(), \"src\")\n",
    "sys.path.append(os.path.abspath(prefix))"
   ]
  },
  {
   "cell_type": "code",
   "execution_count": 5,
   "metadata": {},
   "outputs": [],
   "source": [
    "from importlib import reload\n",
    "\n",
    "import services.aws_s3\n",
    "import services.aws_sagemaker\n",
    "\n",
    "reload(services.aws_s3)\n",
    "reload(services.aws_sagemaker)\n",
    "\n",
    "from services.aws_s3 import AWS_S3\n",
    "from services.aws_sagemaker import AWS_SAGEMAKER"
   ]
  },
  {
   "cell_type": "code",
   "execution_count": 5,
   "metadata": {},
   "outputs": [
    {
     "name": "stdout",
     "output_type": "stream",
     "text": [
      "/home/dany_leguy/T-DEV-810-PAR_1/src/processed/deployment.tar.gz\n"
     ]
    },
    {
     "data": {
      "text/plain": [
       "True"
      ]
     },
     "execution_count": 5,
     "metadata": {},
     "output_type": "execute_result"
    }
   ],
   "source": [
    "bucket = AWS_S3()\n",
    "\n",
    "file_name = os.path.join(os.getcwd(), \"src\", \"processed\", \"deployment.tar.gz\")\n",
    "print(file_name)\n",
    "bucket.upload_file(file_name, \"epitech-zoidberg-models\")"
   ]
  },
  {
   "cell_type": "code",
   "execution_count": 8,
   "metadata": {},
   "outputs": [
    {
     "name": "stdout",
     "output_type": "stream",
     "text": [
      "{'EndpointConfigArn': 'arn:aws:sagemaker:eu-west-3:590183748926:endpoint-config/epitech-zoidberg-resnet14-config', 'ResponseMetadata': {'RequestId': '1fd688f1-01a2-44ad-adf7-05ea6d6ea36e', 'HTTPStatusCode': 200, 'HTTPHeaders': {'x-amzn-requestid': '1fd688f1-01a2-44ad-adf7-05ea6d6ea36e', 'content-type': 'application/x-amz-json-1.1', 'content-length': '113', 'date': 'Mon, 17 Jun 2024 14:11:07 GMT'}, 'RetryAttempts': 0}}\n",
      "{'EndpointArn': 'arn:aws:sagemaker:eu-west-3:590183748926:endpoint/epitech-zoidberg-resnet14', 'ResponseMetadata': {'RequestId': '6569f3a1-0df6-457f-a6dc-ba932590f005', 'HTTPStatusCode': 200, 'HTTPHeaders': {'x-amzn-requestid': '6569f3a1-0df6-457f-a6dc-ba932590f005', 'content-type': 'application/x-amz-json-1.1', 'content-length': '93', 'date': 'Mon, 17 Jun 2024 14:11:08 GMT'}, 'RetryAttempts': 0}}\n"
     ]
    }
   ],
   "source": [
    "sagemaker = AWS_SAGEMAKER()\n",
    "\n",
    "# sagemaker.setup_sagemaker(\n",
    "#     model_name=\"epitech-zoidberg-resnet14\",\n",
    "#     bucket=\"epitech-zoidberg-models\",\n",
    "#     tarball_key=\"deployment.tar.gz\",\n",
    "# )\n",
    "\n",
    "# sagemaker.setup_endpoint(\n",
    "#     config_name=\"epitech-zoidberg-resnet14-config\",\n",
    "#     instance_type=\"ml.m5.large\",\n",
    "#     model_name=\"epitech-zoidberg-resnet14\",\n",
    "# )\n",
    "\n",
    "# sagemaker.create_endpoint(\n",
    "#     endpoint_name=\"epitech-zoidberg-resnet14\",\n",
    "#     config_name=\"epitech-zoidberg-resnet14-config\",\n",
    "# )\n"
   ]
  },
  {
   "cell_type": "code",
   "execution_count": null,
   "metadata": {},
   "outputs": [],
   "source": [
    "\n",
    "image_path = os.path.join(os.getcwd(), \"..\", \"maxresdefault.jpg\")\n",
    "\n",
    "with open(image_path, 'rb') as f:\n",
    "    image_bytes = f.read()\n",
    "\n",
    "sagemaker.use_endpoint(\n",
    "    endpoint_name=\"epitech-zoidberg-resnet14\",\n",
    "    data=image_bytes\n",
    ")"
   ]
  }
 ],
 "metadata": {
  "kernelspec": {
   "display_name": "Python 3 (ipykernel)",
   "language": "python",
   "name": "python3"
  },
  "language_info": {
   "codemirror_mode": {
    "name": "ipython",
    "version": 3
   },
   "file_extension": ".py",
   "mimetype": "text/x-python",
   "name": "python",
   "nbconvert_exporter": "python",
   "pygments_lexer": "ipython3",
   "version": "3.11.8"
  }
 },
 "nbformat": 4,
 "nbformat_minor": 2
}
