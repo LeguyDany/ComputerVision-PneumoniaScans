{
 "cells": [
  {
   "cell_type": "code",
   "execution_count": 1,
   "metadata": {},
   "outputs": [],
   "source": [
    "from enum import Enum\n",
    "\n",
    "import pandas as pd\n",
    "import numpy as np\n",
    "\n",
    "import os\n",
    "import cv2\n",
    "import plotly.express as px\n",
    "import matplotlib\n",
    "import matplotlib.pyplot as plt\n",
    "import seaborn as sns\n",
    "import csv\n",
    "%matplotlib inline\n",
    "\n",
    "from PIL import Image\n",
    "import gc\n",
    "\n",
    "sns.set_style('darkgrid')\n",
    "matplotlib.rcParams['font.size'] = 14\n",
    "matplotlib.rcParams['figure.figsize'] = (10, 6)\n",
    "matplotlib.rcParams['figure.facecolor'] = '#00000000'"
   ]
  },
  {
   "cell_type": "code",
   "execution_count": 2,
   "metadata": {},
   "outputs": [],
   "source": [
    "import torch\n",
    "import torchvision\n",
    "import tarfile\n",
    "import torch.nn as nn\n",
    "import torch.nn.functional as F\n",
    "import torchvision.transforms as tt\n",
    "\n",
    "from torchvision.datasets.utils import download_url\n",
    "from torch.utils.data import random_split\n",
    "from torchvision.datasets import ImageFolder\n",
    "from torchvision.transforms import ToTensor\n",
    "from torch.utils.data.dataloader import DataLoader\n",
    "from torchvision.utils import make_grid\n",
    "from torchvision.datasets.utils import download_url"
   ]
  },
  {
   "cell_type": "code",
   "execution_count": 3,
   "metadata": {},
   "outputs": [],
   "source": [
    "from azure.storage.blob import BlobServiceClient, BlobClient, ContainerClient"
   ]
  },
  {
   "cell_type": "code",
   "execution_count": 4,
   "metadata": {},
   "outputs": [],
   "source": [
    "# Setting up the data from the bucket\n",
    "\n",
    "connection_string = os.getenv('AZURE_CONNECTION_STRING')\n",
    "container_train_name = \"epitech-zoidberg-dataset-train\"\n",
    "container_val_name = \"epitech-zoidberg-dataset-validation\"\n",
    "container_test_name = \"epitech-zoidberg-dataset-test\"\n",
    "\n",
    "\n",
    "blob_service_client = BlobServiceClient.from_connection_string(connection_string)"
   ]
  },
  {
   "cell_type": "code",
   "execution_count": 5,
   "metadata": {},
   "outputs": [],
   "source": [
    "class EOutput(Enum):\n",
    "  NEGATIVE = 0\n",
    "  BACTERIA = 1\n",
    "  VIRUS = 2\n",
    "\n",
    "class EDataset(Enum):\n",
    "  TRAIN = 0\n",
    "  VALIDATION = 1\n",
    "  TEST = 2"
   ]
  },
  {
   "cell_type": "code",
   "execution_count": 6,
   "metadata": {},
   "outputs": [],
   "source": [
    "train_tfms = tt.Compose([\n",
    "                        #  tt.RandomCrop(250, padding=10, padding_mode='reflect'),\n",
    "                         tt.RandomHorizontalFlip(),\n",
    "                         tt.RandomRotation([-10, 10]),\n",
    "                         tt.ColorJitter(brightness=0.1, contrast=0.1, saturation=0.1),\n",
    "                         tt.ToTensor(),\n",
    "                         ])\n",
    "\n",
    "valid_tfms = tt.ToTensor()"
   ]
  },
  {
   "cell_type": "code",
   "execution_count": 7,
   "metadata": {},
   "outputs": [],
   "source": [
    "# Download images from Azure Storage Account\n",
    "\n",
    "def load_blob_from_container(container_name, dataset_type):\n",
    "    images = []\n",
    "    labels = []\n",
    "\n",
    "    container_client = blob_service_client.get_container_client(container_name)\n",
    "    blobs = container_client.list_blobs()\n",
    "\n",
    "    for blob in blobs:\n",
    "\n",
    "        blob_client = blob_service_client.get_blob_client(container_name, blob.name)\n",
    "        stream = blob_client.download_blob().readall()\n",
    "\n",
    "        nparr = np.frombuffer(stream, np.uint8)\n",
    "\n",
    "        img = cv2.imdecode(nparr, cv2.IMREAD_COLOR)\n",
    "\n",
    "        if img is None: continue\n",
    "\n",
    "        img = cv2.resize(img, (50,50))\n",
    "\n",
    "        if dataset_type == EDataset.TRAIN:\n",
    "            images.append(\n",
    "                train_tfms(Image.fromarray(img))\n",
    "            )\n",
    "        else:\n",
    "            images.append(\n",
    "                valid_tfms(Image.fromarray(img))\n",
    "            )\n",
    "\n",
    "        if \"bacteria\" in blob.name:\n",
    "            labels.append(EOutput.BACTERIA.value)\n",
    "            continue\n",
    "\n",
    "        if \"virus\" in blob.name:\n",
    "            labels.append(EOutput.VIRUS.value)\n",
    "            continue\n",
    "\n",
    "        labels.append(EOutput.NEGATIVE.value)\n",
    "\n",
    "    return list(zip(images, labels))"
   ]
  },
  {
   "cell_type": "code",
   "execution_count": 8,
   "metadata": {},
   "outputs": [],
   "source": [
    "train_ds = load_blob_from_container(container_name=container_train_name, dataset_type=EDataset.TRAIN)\n",
    "val_ds = load_blob_from_container(container_name=container_val_name, dataset_type=EDataset.VALIDATION)\n",
    "test_ds = load_blob_from_container(container_name=container_test_name, dataset_type=EDataset.TEST)"
   ]
  },
  {
   "cell_type": "code",
   "execution_count": 9,
   "metadata": {},
   "outputs": [
    {
     "name": "stdout",
     "output_type": "stream",
     "text": [
      "Train dataset size: 4684\n",
      "Validation dataset size: 586\n",
      "Test dataset size: 585\n"
     ]
    }
   ],
   "source": [
    "print(f\"Train dataset size: {len(train_ds)}\")\n",
    "print(f\"Validation dataset size: {len(val_ds)}\")\n",
    "print(f\"Test dataset size: {len(test_ds)}\")"
   ]
  },
  {
   "cell_type": "code",
   "execution_count": 10,
   "metadata": {},
   "outputs": [
    {
     "data": {
      "image/png": "[encoded data removed]",
      "text/plain": [
       "<Figure size 1000x600 with 1 Axes>"
      ]
     },
     "metadata": {
      "needs_background": "light"
     },
     "output_type": "display_data"
    }
   ],
   "source": [
    "image, label = test_ds[np.random.randint(0, len(test_ds))]\n",
    "\n",
    "plt.imshow(image.permute(1, 2, 0))\n",
    "plt.title(EOutput(label).name)\n",
    "plt.axis('off')\n",
    "plt.show()"
   ]
  },
  {
   "cell_type": "code",
   "execution_count": 11,
   "metadata": {},
   "outputs": [
    {
     "data": {
      "text/plain": [
       "device(type='cuda')"
      ]
     },
     "execution_count": 11,
     "metadata": {},
     "output_type": "execute_result"
    }
   ],
   "source": [
    "def get_default_device():\n",
    "    \"\"\"Pick GPU if available, else CPU\"\"\"\n",
    "    if torch.cuda.is_available():\n",
    "        return torch.device('cuda')\n",
    "    else:\n",
    "        return torch.device('cpu')\n",
    "\n",
    "def to_device(data, device):\n",
    "    \"\"\"Move tensor(s) to chosen device\"\"\"\n",
    "    if isinstance(data, (list,tuple)):\n",
    "        return [to_device(x, device) for x in data]\n",
    "    return data.to(device, non_blocking=True)\n",
    "\n",
    "class DeviceDataLoader():\n",
    "    \"\"\"Wrap a dataloader to move data to a device\"\"\"\n",
    "    def __init__(self, dl, device):\n",
    "        self.dl = dl\n",
    "        self.device = device\n",
    "\n",
    "    def __iter__(self):\n",
    "        \"\"\"Yield a batch of data after moving it to device\"\"\"\n",
    "        for b in self.dl:\n",
    "            yield to_device(b, self.device)\n",
    "\n",
    "    def __len__(self):\n",
    "        \"\"\"Number of batches\"\"\"\n",
    "        return len(self.dl)\n",
    "\n",
    "device = get_default_device()\n",
    "device"
   ]
  },
  {
   "cell_type": "code",
   "execution_count": 12,
   "metadata": {},
   "outputs": [],
   "source": [
    "class ImageClassificationBase(nn.Module):\n",
    "    def training_step(self, batch):\n",
    "        images, labels = batch\n",
    "        out = self(images)\n",
    "        loss = F.cross_entropy(out, labels)\n",
    "        return loss\n",
    "\n",
    "    def validation_step(self, batch):\n",
    "        images, labels = batch\n",
    "        out = self(images)\n",
    "        loss = F.cross_entropy(out, labels)\n",
    "        acc = accuracy(out, labels)\n",
    "        return {'val_loss': loss.detach(), 'val_acc': acc}\n",
    "\n",
    "    def validation_epoch_end(self, outputs):\n",
    "        batch_losses = [x['val_loss'] for x in outputs]\n",
    "        epoch_loss = torch.stack(batch_losses).mean()\n",
    "        batch_accs = [x['val_acc'] for x in outputs]\n",
    "        epoch_acc = torch.stack(batch_accs).mean()\n",
    "        return {'val_loss': epoch_loss.item(), 'val_acc': epoch_acc.item()}\n",
    "\n",
    "    def epoch_end(self, epoch, result):\n",
    "        print(\"Epoch [{}], train_loss: {:.4f}, val_loss: {:.4f}, val_acc: {:.4f}\".format(\n",
    "            epoch, result['train_loss'], result['val_loss'], result['val_acc']))\n",
    "\n",
    "def accuracy(outputs, labels):\n",
    "    _, preds = torch.max(outputs, dim=1)\n",
    "    return torch.tensor(torch.sum(preds == labels).item() / len(preds))"
   ]
  },
  {
   "cell_type": "code",
   "execution_count": 332,
   "metadata": {},
   "outputs": [],
   "source": [
    "def conv_block(in_channels, out_channels, pool=False):\n",
    "  layers = [\n",
    "      nn.Conv2d(in_channels, out_channels, kernel_size=3, padding=1, ),\n",
    "      nn.BatchNorm2d(out_channels),\n",
    "      nn.ReLU(inplace=True),\n",
    "  ]\n",
    "  if pool: layers.append(nn.MaxPool2d(2))\n",
    "  return nn.Sequential(*layers)\n",
    "\n",
    "class ResidualBlock(nn.Module):\n",
    "  def __init__(self, channels):\n",
    "    super(ResidualBlock, self).__init__()\n",
    "    self.conv = nn.Sequential(\n",
    "      conv_block(channels, channels),\n",
    "      conv_block(channels, channels)\n",
    "    )\n",
    "\n",
    "  def forward(self, x):\n",
    "    return self.conv(x) + x\n",
    "\n",
    "class ResNet9(ImageClassificationBase):\n",
    "  def __init__(self, in_channels, num_classes):\n",
    "    super().__init__()\n",
    "\n",
    "    self.conv = nn.Sequential(\n",
    "        conv_block(in_channels, 64),\n",
    "        conv_block(64, 128, pool=True),\n",
    "        conv_block(128, 128, pool=True),\n",
    "        ResidualBlock(128),\n",
    "\n",
    "        conv_block(128, 256),\n",
    "        ResidualBlock(256),\n",
    "        conv_block(256, 512),\n",
    "        ResidualBlock(512),\n",
    "        conv_block(512, 256),\n",
    "        ResidualBlock(256),\n",
    "        conv_block(256, 128),\n",
    "        ResidualBlock(128),\n",
    "\n",
    "        # conv_block(128, 64),\n",
    "        # ResidualBlock(64),\n",
    "        # conv_block(64, 128),\n",
    "        # ResidualBlock(128),\n",
    "\n",
    "        # conv_block(128, 128),\n",
    "        # ResidualBlock(128),\n",
    "        # conv_block(128, 128),\n",
    "        # ResidualBlock(128),\n",
    "        # conv_block(128, 128),\n",
    "        # ResidualBlock(128),\n",
    "        # conv_block(128, 128),\n",
    "        # ResidualBlock(128),\n",
    "        # conv_block(128, 128),\n",
    "        # ResidualBlock(128),\n",
    "        # conv_block(128, 128),\n",
    "        # ResidualBlock(128),\n",
    "\n",
    "        conv_block(128, 256, pool=True),\n",
    "        conv_block(256, 512, pool=True),\n",
    "        ResidualBlock(512),\n",
    "\n",
    "        nn.Sequential(\n",
    "            nn.AdaptiveAvgPool2d(1),\n",
    "            nn.Flatten(),\n",
    "            nn.Dropout(0.2),\n",
    "            nn.Linear(512, num_classes)\n",
    "        )\n",
    "    )\n",
    "\n",
    "  def forward(self, xb):\n",
    "    return self.conv(xb)"
   ]
  },
  {
   "cell_type": "code",
   "execution_count": 333,
   "metadata": {},
   "outputs": [],
   "source": [
    "@torch.no_grad()\n",
    "def evaluate(model, val_loader):\n",
    "    model.eval()\n",
    "    outputs = [model.validation_step(batch) for batch in val_loader]\n",
    "    return model.validation_epoch_end(outputs)\n",
    "\n",
    "def get_lr(optimizer):\n",
    "  for param_group in optimizer.param_groups:\n",
    "    return param_group['lr']\n",
    "\n",
    "def fit_one_cycle(epochs, max_lr, model, train_loader, val_loader, weight_decay=0, grad_clip=None, opt_func=torch.optim.SGD):\n",
    "\n",
    "    torch.cuda.empty_cache()\n",
    "    history = []\n",
    "\n",
    "    optimizer = opt_func(model.parameters(), max_lr, weight_decay=weight_decay)\n",
    "\n",
    "    sched = torch.optim.lr_scheduler.OneCycleLR(optimizer, max_lr, epochs=epochs, steps_per_epoch=len(train_loader))\n",
    "    # sched = torch.optim.lr_scheduler.LinearLR(optimizer, start_factor=1, end_factor=0.3)\n",
    "\n",
    "    for epoch in range(epochs):\n",
    "        model.train()\n",
    "        train_losses = []\n",
    "        lrs = []\n",
    "\n",
    "        for batch in train_loader:\n",
    "            loss = model.training_step(batch)\n",
    "            train_losses.append(loss)\n",
    "            loss.backward()\n",
    "            if grad_clip:\n",
    "              nn.utils.clip_grad_value_(model.parameters(), grad_clip)\n",
    "            optimizer.step()\n",
    "            optimizer.zero_grad()\n",
    "\n",
    "            lrs.append(get_lr(optimizer))\n",
    "            sched.step()\n",
    "\n",
    "        # Validation phase\n",
    "        result = evaluate(model, val_loader)\n",
    "        result['train_loss'] = torch.stack(train_losses).mean().item()\n",
    "        result['lr'] = lrs\n",
    "        model.epoch_end(epoch, result)\n",
    "        history.append(result)\n",
    "\n",
    "    return history"
   ]
  },
  {
   "cell_type": "code",
   "execution_count": 334,
   "metadata": {},
   "outputs": [],
   "source": [
    "batch_size = 300\n",
    "input_layer = 50*50"
   ]
  },
  {
   "cell_type": "code",
   "execution_count": 335,
   "metadata": {},
   "outputs": [],
   "source": [
    "train_dl = DataLoader(train_ds, batch_size, shuffle=True, num_workers=2, pin_memory=True)\n",
    "valid_dl = DataLoader(val_ds, batch_size*2, shuffle=True, num_workers=2, pin_memory=True)\n",
    "test_dl = DataLoader(test_ds, batch_size, shuffle=True, num_workers=2, pin_memory=True)"
   ]
  },
  {
   "cell_type": "code",
   "execution_count": 339,
   "metadata": {},
   "outputs": [],
   "source": [
    "train_dl = DeviceDataLoader(train_dl, device)\n",
    "valid_dl = DeviceDataLoader(valid_dl, device)\n",
    "model = to_device(ResNet9(3, 3), device)\n",
    "history = [evaluate(model, valid_dl)]\n",
    "history[0][\"train_loss\"] = 0"
   ]
  },
  {
   "cell_type": "code",
   "execution_count": 340,
   "metadata": {},
   "outputs": [
    {
     "name": "stdout",
     "output_type": "stream",
     "text": [
      "Epoch [0], train_loss: 0.8412, val_loss: 1.4739, val_acc: 0.4761\n",
      "Epoch [1], train_loss: 0.6265, val_loss: 1.1541, val_acc: 0.5205\n",
      "Epoch [2], train_loss: 0.5339, val_loss: 0.8000, val_acc: 0.7184\n",
      "Epoch [3], train_loss: 0.4764, val_loss: 0.6040, val_acc: 0.7218\n",
      "Epoch [4], train_loss: 0.4321, val_loss: 0.5722, val_acc: 0.7287\n",
      "Epoch [5], train_loss: 0.3814, val_loss: 0.5213, val_acc: 0.7645\n",
      "Epoch [6], train_loss: 0.3439, val_loss: 0.4602, val_acc: 0.7935\n",
      "CPU times: user 32.9 s, sys: 22.7 s, total: 55.7 s\n",
      "Wall time: 57.2 s\n"
     ]
    }
   ],
   "source": [
    "%%time\n",
    "history += fit_one_cycle(\n",
    "    epochs=7,\n",
    "    max_lr=1e-3,\n",
    "    model=model,\n",
    "    train_loader=train_dl,\n",
    "    val_loader=valid_dl,\n",
    "    weight_decay=2e-4,\n",
    "    grad_clip=.1,\n",
    "    opt_func=torch.optim.Adam\n",
    ")"
   ]
  },
  {
   "cell_type": "code",
   "execution_count": 341,
   "metadata": {},
   "outputs": [
    {
     "name": "stdout",
     "output_type": "stream",
     "text": [
      "Epoch [0], train_loss: 0.3308, val_loss: 0.4569, val_acc: 0.8038\n",
      "Epoch [1], train_loss: 0.3194, val_loss: 0.4530, val_acc: 0.7986\n",
      "Epoch [2], train_loss: 0.3064, val_loss: 0.4610, val_acc: 0.8003\n",
      "Epoch [3], train_loss: 0.2923, val_loss: 0.4643, val_acc: 0.8140\n",
      "Epoch [4], train_loss: 0.2857, val_loss: 0.4698, val_acc: 0.8123\n",
      "CPU times: user 23 s, sys: 16.9 s, total: 39.9 s\n",
      "Wall time: 40.8 s\n"
     ]
    }
   ],
   "source": [
    "%%time\n",
    "history += fit_one_cycle(\n",
    "    epochs=5,\n",
    "    max_lr=1e-5,\n",
    "    model=model,\n",
    "    train_loader=train_dl,\n",
    "    val_loader=valid_dl,\n",
    "    weight_decay=1e-4,\n",
    "    grad_clip=.1,\n",
    "    opt_func=torch.optim.Adam\n",
    ")"
   ]
  },
  {
   "cell_type": "code",
   "execution_count": 96,
   "metadata": {},
   "outputs": [],
   "source": [
    "def plot_losses(history):\n",
    "    train_losses = [x.get('train_loss') for x in history]\n",
    "    val_losses = [x['val_loss'] for x in history]\n",
    "    plt.plot(train_losses, '-bx')\n",
    "    plt.plot(val_losses, '-rx')\n",
    "    plt.xlabel('epoch')\n",
    "    plt.ylabel('loss')\n",
    "    plt.legend(['Training', 'Validation'])\n",
    "    plt.title('Loss vs. No. of epochs')"
   ]
  },
  {
   "cell_type": "code",
   "execution_count": 342,
   "metadata": {},
   "outputs": [
    {
     "data": {
      "image/png": "[encoded data removed]",
      "text/plain": [
       "<Figure size 1000x600 with 1 Axes>"
      ]
     },
     "metadata": {
      "needs_background": "light"
     },
     "output_type": "display_data"
    }
   ],
   "source": [
    "plot_losses(history)"
   ]
  },
  {
   "cell_type": "code",
   "execution_count": 108,
   "metadata": {},
   "outputs": [],
   "source": [
    "model = model.to(\"cuda\")"
   ]
  },
  {
   "cell_type": "code",
   "execution_count": 355,
   "metadata": {},
   "outputs": [
    {
     "name": "stdout",
     "output_type": "stream",
     "text": [
      "Label: VIRUS, prediction: BACTERIA\n"
     ]
    },
    {
     "data": {
      "image/png": "[encoded data removed]",
      "text/plain": [
       "<Figure size 1000x600 with 1 Axes>"
      ]
     },
     "metadata": {
      "needs_background": "light"
     },
     "output_type": "display_data"
    }
   ],
   "source": [
    "image, label = test_ds[np.random.randint(0, len(test_ds))]\n",
    "\n",
    "plt.imshow(image.permute(1, 2, 0))\n",
    "plt.title(EOutput(label).name)\n",
    "\n",
    "pred = model(to_device(image.unsqueeze(0), device))\n",
    "\n",
    "print(f\"Label: {EOutput(label).name}, prediction: {EOutput(torch.max(pred, dim=1)[1].item()).name}\")\n",
    "\n",
    "plt.axis('off')\n",
    "\n",
    "plt.show()"
   ]
  },
  {
   "cell_type": "code",
   "execution_count": 357,
   "metadata": {},
   "outputs": [
    {
     "name": "stdout",
     "output_type": "stream",
     "text": [
      "{'val_loss': 0.4963456988334656, 'val_acc': 0.7880702018737793}\n"
     ]
    }
   ],
   "source": [
    "test_dl = DeviceDataLoader(test_dl, device)\n",
    "result = evaluate(model, test_dl)\n",
    "print(result)"
   ]
  },
  {
   "cell_type": "code",
   "execution_count": 358,
   "metadata": {},
   "outputs": [],
   "source": [
    "file_meta_data = [(\"val_loss\", \"val_acc\", \"train_loss\")]\n",
    "file_data_csv = [(i[\"val_loss\"], i[\"val_acc\"], i[\"train_loss\"]) for i in history]\n",
    "\n",
    "full_file = file_meta_data + file_data_csv"
   ]
  },
  {
   "cell_type": "code",
   "execution_count": 359,
   "metadata": {},
   "outputs": [
    {
     "name": "stdout",
     "output_type": "stream",
     "text": [
      "/home/dany_leguy/models/model3/model2_result.csv\n"
     ]
    }
   ],
   "source": [
    "path = os.path.join(os.getcwd(), \"model_result.csv\")\n",
    "print(path)\n",
    "with open(path, \"w\", newline=\"\") as file:\n",
    "    writer = csv.writer(file)\n",
    "    writer.writerows(full_file)"
   ]
  },
  {
   "cell_type": "code",
   "execution_count": 360,
   "metadata": {},
   "outputs": [],
   "source": [
    "model_file_name = \"model.pth\"\n",
    "model_path = os.path.join(os.getcwd(), model_file_name)"
   ]
  },
  {
   "cell_type": "code",
   "execution_count": 361,
   "metadata": {},
   "outputs": [],
   "source": [
    "torch.save(model.state_dict(), model_path)"
   ]
  },
  {
   "cell_type": "code",
   "execution_count": null,
   "metadata": {},
   "outputs": [],
   "source": [
    "model.load_state_dict(torch.load(model_path))"
   ]
  },
  {
   "cell_type": "code",
   "execution_count": 74,
   "metadata": {},
   "outputs": [
    {
     "name": "stdout",
     "output_type": "stream",
     "text": [
      "Write permissions check passed.\n"
     ]
    }
   ],
   "source": [
    "# Checks if you have the permissions to write in this folder.\n",
    "try:\n",
    "    with open(os.path.join(os.getcwd(), 'temp.txt'), 'w') as f:\n",
    "        pass\n",
    "    print(\"Write permissions check passed.\")\n",
    "except:\n",
    "    print(\"Write permissions check failed.\")"
   ]
  }
 ],
 "metadata": {
  "kernelspec": {
   "display_name": "Python 3 (ipykernel)",
   "language": "python",
   "name": "python3"
  },
  "language_info": {
   "codemirror_mode": {
    "name": "ipython",
    "version": 3
   },
   "file_extension": ".py",
   "mimetype": "text/x-python",
   "name": "python",
   "nbconvert_exporter": "python",
   "pygments_lexer": "ipython3",
   "version": "3.11.8"
  }
 },
 "nbformat": 4,
 "nbformat_minor": 2
}
